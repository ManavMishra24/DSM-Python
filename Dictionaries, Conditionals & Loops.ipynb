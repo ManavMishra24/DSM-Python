{
 "cells": [
  {
   "cell_type": "code",
   "execution_count": 1,
   "id": "7cf072b6-32e5-42ec-b69d-bbe720154f47",
   "metadata": {},
   "outputs": [],
   "source": [
    "d={}"
   ]
  },
  {
   "cell_type": "code",
   "execution_count": 2,
   "id": "7f1979b0-f1eb-4037-a4c4-99234074cd7d",
   "metadata": {},
   "outputs": [
    {
     "data": {
      "text/plain": [
       "dict"
      ]
     },
     "execution_count": 2,
     "metadata": {},
     "output_type": "execute_result"
    }
   ],
   "source": [
    "type(d)"
   ]
  },
  {
   "cell_type": "code",
   "execution_count": 3,
   "id": "edb0da7e-da3c-405a-91c7-ec6007763c86",
   "metadata": {},
   "outputs": [],
   "source": [
    "d1 = {'key' : \"sudh\"}"
   ]
  },
  {
   "cell_type": "code",
   "execution_count": 4,
   "id": "44e6839f-6a89-41b9-9109-b3fa2bc2eab4",
   "metadata": {},
   "outputs": [
    {
     "data": {
      "text/plain": [
       "{'key': 'sudh'}"
      ]
     },
     "execution_count": 4,
     "metadata": {},
     "output_type": "execute_result"
    }
   ],
   "source": [
    "d1"
   ]
  },
  {
   "cell_type": "code",
   "execution_count": 5,
   "id": "69861cf6-ea81-46e2-a405-a03ba6a5327d",
   "metadata": {},
   "outputs": [],
   "source": [
    "d2 = {'name' : \"sudhanshu\" , 'email' : \"ss@gmail.com\" , 'number' : 334534}"
   ]
  },
  {
   "cell_type": "code",
   "execution_count": 6,
   "id": "0e5243e3-96b6-4ef9-8fa7-f00b5f1d8e85",
   "metadata": {},
   "outputs": [
    {
     "data": {
      "text/plain": [
       "{'name': 'sudhanshu', 'email': 'ss@gmail.com', 'number': 334534}"
      ]
     },
     "execution_count": 6,
     "metadata": {},
     "output_type": "execute_result"
    }
   ],
   "source": [
    "d2"
   ]
  },
  {
   "cell_type": "code",
   "execution_count": 8,
   "id": "798024c0-48e4-4f90-879f-10b2e5fd95e1",
   "metadata": {},
   "outputs": [
    {
     "ename": "SyntaxError",
     "evalue": "invalid syntax (2114028960.py, line 1)",
     "output_type": "error",
     "traceback": [
      "\u001b[0;36m  Cell \u001b[0;32mIn[8], line 1\u001b[0;36m\u001b[0m\n\u001b[0;31m    d3 = {234 : \"sudh\", @wer : \"kumar\"}\u001b[0m\n\u001b[0m                        ^\u001b[0m\n\u001b[0;31mSyntaxError\u001b[0m\u001b[0;31m:\u001b[0m invalid syntax\n"
     ]
    }
   ],
   "source": [
    "d3 = {234 : \"sudh\", @wer : \"kumar\"}"
   ]
  },
  {
   "cell_type": "code",
   "execution_count": 9,
   "id": "e40e10aa-0bac-4930-9178-a138a7723045",
   "metadata": {},
   "outputs": [
    {
     "ename": "NameError",
     "evalue": "name '_wer' is not defined",
     "output_type": "error",
     "traceback": [
      "\u001b[0;31m---------------------------------------------------------------------------\u001b[0m",
      "\u001b[0;31mNameError\u001b[0m                                 Traceback (most recent call last)",
      "Cell \u001b[0;32mIn[9], line 1\u001b[0m\n\u001b[0;32m----> 1\u001b[0m d3 \u001b[38;5;241m=\u001b[39m {\u001b[38;5;241m234\u001b[39m : \u001b[38;5;124m\"\u001b[39m\u001b[38;5;124msudh\u001b[39m\u001b[38;5;124m\"\u001b[39m, \u001b[43m_wer\u001b[49m : \u001b[38;5;124m\"\u001b[39m\u001b[38;5;124mkumar\u001b[39m\u001b[38;5;124m\"\u001b[39m}\n",
      "\u001b[0;31mNameError\u001b[0m: name '_wer' is not defined"
     ]
    }
   ],
   "source": [
    "d3 = {234 : \"sudh\", _wer : \"kumar\"}"
   ]
  },
  {
   "cell_type": "code",
   "execution_count": 10,
   "id": "24cd47e9-11a1-4271-8898-d0ab5d70ed54",
   "metadata": {},
   "outputs": [],
   "source": [
    "d3 = {234 : \"sudh\", '_wer' : \"kumar\"}"
   ]
  },
  {
   "cell_type": "code",
   "execution_count": 11,
   "id": "b2fbf56d-4d06-4c3a-a3ca-d24d1cea9fc3",
   "metadata": {},
   "outputs": [],
   "source": [
    "d3 = {234 : \"sudh\", '_wer' : \"kumar\" , True : 24223}"
   ]
  },
  {
   "cell_type": "code",
   "execution_count": 12,
   "id": "d3c60cd7-232f-4742-bf53-a62e0b87bcef",
   "metadata": {},
   "outputs": [
    {
     "ename": "KeyError",
     "evalue": "'234'",
     "output_type": "error",
     "traceback": [
      "\u001b[0;31m---------------------------------------------------------------------------\u001b[0m",
      "\u001b[0;31mKeyError\u001b[0m                                  Traceback (most recent call last)",
      "Cell \u001b[0;32mIn[12], line 1\u001b[0m\n\u001b[0;32m----> 1\u001b[0m \u001b[43md3\u001b[49m\u001b[43m[\u001b[49m\u001b[38;5;124;43m'\u001b[39;49m\u001b[38;5;124;43m234\u001b[39;49m\u001b[38;5;124;43m'\u001b[39;49m\u001b[43m]\u001b[49m\n",
      "\u001b[0;31mKeyError\u001b[0m: '234'"
     ]
    }
   ],
   "source": [
    "d3['234']"
   ]
  },
  {
   "cell_type": "code",
   "execution_count": 13,
   "id": "e0fa0589-9025-4c9a-9bc4-766cccebdb15",
   "metadata": {},
   "outputs": [
    {
     "data": {
      "text/plain": [
       "'sudh'"
      ]
     },
     "execution_count": 13,
     "metadata": {},
     "output_type": "execute_result"
    }
   ],
   "source": [
    "d3[234]"
   ]
  },
  {
   "cell_type": "code",
   "execution_count": 14,
   "id": "2c961fa2-e9f4-4403-87f9-4becbdec9d58",
   "metadata": {},
   "outputs": [
    {
     "data": {
      "text/plain": [
       "24223"
      ]
     },
     "execution_count": 14,
     "metadata": {},
     "output_type": "execute_result"
    }
   ],
   "source": [
    "d3[True]"
   ]
  },
  {
   "cell_type": "code",
   "execution_count": 15,
   "id": "a06060f6-713c-4945-890d-57c010918daa",
   "metadata": {},
   "outputs": [
    {
     "data": {
      "text/plain": [
       "24223"
      ]
     },
     "execution_count": 15,
     "metadata": {},
     "output_type": "execute_result"
    }
   ],
   "source": [
    "d3[1]"
   ]
  },
  {
   "cell_type": "code",
   "execution_count": 16,
   "id": "8c11efde-7e5e-4511-a27d-1ddb6c0c5b37",
   "metadata": {},
   "outputs": [],
   "source": [
    "d4 = {'name' : \"sudh\" , 'mail_id' : \"ss@gmail.com\" , \"name\" : \"sudhanshu\"}"
   ]
  },
  {
   "cell_type": "code",
   "execution_count": 17,
   "id": "26a6f394-df12-4da6-8171-3c60be7d5e41",
   "metadata": {},
   "outputs": [
    {
     "data": {
      "text/plain": [
       "'sudhanshu'"
      ]
     },
     "execution_count": 17,
     "metadata": {},
     "output_type": "execute_result"
    }
   ],
   "source": [
    "d4['name']"
   ]
  },
  {
   "cell_type": "code",
   "execution_count": 18,
   "id": "22d02b04-2aac-4700-aa48-4efec1e0362e",
   "metadata": {},
   "outputs": [
    {
     "data": {
      "text/plain": [
       "'sudhanshu'"
      ]
     },
     "execution_count": 18,
     "metadata": {},
     "output_type": "execute_result"
    }
   ],
   "source": [
    "d4[\"name\"]"
   ]
  },
  {
   "cell_type": "code",
   "execution_count": 19,
   "id": "5b612dd1-a32b-4b73-9edb-0bfa09978cad",
   "metadata": {},
   "outputs": [],
   "source": [
    "#In Case of Dictionary, Key Value get over-written if we take same key name."
   ]
  },
  {
   "cell_type": "code",
   "execution_count": 20,
   "id": "4b4486a2-0db6-4207-b2eb-96058f33537b",
   "metadata": {},
   "outputs": [],
   "source": [
    "d5 = {\"company\" : \"pwskills\" , \"course\" : [\"web dev\" , \"data science\" , \"java with dsa system design\"]}"
   ]
  },
  {
   "cell_type": "code",
   "execution_count": 21,
   "id": "60b31c93-5cda-4aa3-b700-1f79c1823da4",
   "metadata": {},
   "outputs": [
    {
     "data": {
      "text/plain": [
       "{'company': 'pwskills',\n",
       " 'course': ['web dev', 'data science', 'java with dsa system design']}"
      ]
     },
     "execution_count": 21,
     "metadata": {},
     "output_type": "execute_result"
    }
   ],
   "source": [
    "d5"
   ]
  },
  {
   "cell_type": "code",
   "execution_count": 22,
   "id": "8b11815c-21b8-4233-9239-daefb29815e2",
   "metadata": {},
   "outputs": [
    {
     "data": {
      "text/plain": [
       "['web dev', 'data science', 'java with dsa system design']"
      ]
     },
     "execution_count": 22,
     "metadata": {},
     "output_type": "execute_result"
    }
   ],
   "source": [
    "d5['course']"
   ]
  },
  {
   "cell_type": "code",
   "execution_count": 23,
   "id": "4e8fc07b-c3b5-4c02-b3b2-ef1254c442ea",
   "metadata": {},
   "outputs": [
    {
     "data": {
      "text/plain": [
       "'java with dsa system design'"
      ]
     },
     "execution_count": 23,
     "metadata": {},
     "output_type": "execute_result"
    }
   ],
   "source": [
    "d5['course'][2]"
   ]
  },
  {
   "cell_type": "code",
   "execution_count": 24,
   "id": "165b98b6-2c44-4a82-ad7b-d6e1579fca6d",
   "metadata": {},
   "outputs": [],
   "source": [
    "d6 = {\"number\" : [2,34,3,34,34] , \"assignments\" : (1,2,3,4,5,6) , \"launch_date\" : {28,12,14,} }"
   ]
  },
  {
   "cell_type": "code",
   "execution_count": 25,
   "id": "589250e0-2536-4323-b2ba-600e1f17caa6",
   "metadata": {},
   "outputs": [
    {
     "data": {
      "text/plain": [
       "{'number': [2, 34, 3, 34, 34],\n",
       " 'assignments': (1, 2, 3, 4, 5, 6),\n",
       " 'launch_date': {12, 14, 28}}"
      ]
     },
     "execution_count": 25,
     "metadata": {},
     "output_type": "execute_result"
    }
   ],
   "source": [
    "d6"
   ]
  },
  {
   "cell_type": "code",
   "execution_count": 29,
   "id": "0e4141ba-52ae-41b9-bceb-458981af68ef",
   "metadata": {},
   "outputs": [],
   "source": [
    "d7 = {\"number\" : [2,34,3,34,34] , \"assignments\" : (1,2,3,4,5,6) , \"launch_date\" : {28,12,14,} , \"class_time\" : {\"web_dev\" : 8 , \"data science masters\" : 8 , \"java with dsa system design\" : 7} }"
   ]
  },
  {
   "cell_type": "code",
   "execution_count": 30,
   "id": "94f97444-deb2-4791-add1-da1fd6fd32df",
   "metadata": {},
   "outputs": [
    {
     "data": {
      "text/plain": [
       "{'number': [2, 34, 3, 34, 34],\n",
       " 'assignments': (1, 2, 3, 4, 5, 6),\n",
       " 'launch_date': {12, 14, 28},\n",
       " 'class_time': {'web_dev': 8,\n",
       "  'data science masters': 8,\n",
       "  'java with dsa system design': 7}}"
      ]
     },
     "execution_count": 30,
     "metadata": {},
     "output_type": "execute_result"
    }
   ],
   "source": [
    "d7"
   ]
  },
  {
   "cell_type": "code",
   "execution_count": 31,
   "id": "06118c37-f88c-4ecf-a221-a2ca160b746c",
   "metadata": {},
   "outputs": [
    {
     "data": {
      "text/plain": [
       "{'web_dev': 8, 'data science masters': 8, 'java with dsa system design': 7}"
      ]
     },
     "execution_count": 31,
     "metadata": {},
     "output_type": "execute_result"
    }
   ],
   "source": [
    "d7['class_time']"
   ]
  },
  {
   "cell_type": "code",
   "execution_count": 32,
   "id": "e9d359f4-9820-4ff9-85fa-84f41ffec276",
   "metadata": {},
   "outputs": [
    {
     "data": {
      "text/plain": [
       "7"
      ]
     },
     "execution_count": 32,
     "metadata": {},
     "output_type": "execute_result"
    }
   ],
   "source": [
    "d7['class_time']['java with dsa system design']"
   ]
  },
  {
   "cell_type": "code",
   "execution_count": 33,
   "id": "a9a43bf9-cefa-4951-86f7-10a29cb28bbf",
   "metadata": {},
   "outputs": [],
   "source": [
    "d7['mentor'] = [\"sudhanshu\",\"krish\",\"anurag\",\"hayder\"]"
   ]
  },
  {
   "cell_type": "code",
   "execution_count": 34,
   "id": "683a6bbe-24f1-4651-913b-efa35541eb77",
   "metadata": {},
   "outputs": [
    {
     "data": {
      "text/plain": [
       "{'number': [2, 34, 3, 34, 34],\n",
       " 'assignments': (1, 2, 3, 4, 5, 6),\n",
       " 'launch_date': {12, 14, 28},\n",
       " 'class_time': {'web_dev': 8,\n",
       "  'data science masters': 8,\n",
       "  'java with dsa system design': 7},\n",
       " 'mentor': ['sudhanshu', 'krish', 'anurag', 'hayder']}"
      ]
     },
     "execution_count": 34,
     "metadata": {},
     "output_type": "execute_result"
    }
   ],
   "source": [
    "d7"
   ]
  },
  {
   "cell_type": "code",
   "execution_count": 35,
   "id": "0c824d92-ae0e-48e1-9f71-be8e18d68dd6",
   "metadata": {},
   "outputs": [],
   "source": [
    "del d7['number']"
   ]
  },
  {
   "cell_type": "code",
   "execution_count": 36,
   "id": "4d59b032-b7c8-439e-9e0c-287aa68dcd02",
   "metadata": {},
   "outputs": [
    {
     "data": {
      "text/plain": [
       "{'assignments': (1, 2, 3, 4, 5, 6),\n",
       " 'launch_date': {12, 14, 28},\n",
       " 'class_time': {'web_dev': 8,\n",
       "  'data science masters': 8,\n",
       "  'java with dsa system design': 7},\n",
       " 'mentor': ['sudhanshu', 'krish', 'anurag', 'hayder']}"
      ]
     },
     "execution_count": 36,
     "metadata": {},
     "output_type": "execute_result"
    }
   ],
   "source": [
    "d7"
   ]
  },
  {
   "cell_type": "code",
   "execution_count": 37,
   "id": "6b6e3445-8058-43d8-984a-fb195aabd7e6",
   "metadata": {},
   "outputs": [
    {
     "data": {
      "text/plain": [
       "dict_keys(['assignments', 'launch_date', 'class_time', 'mentor'])"
      ]
     },
     "execution_count": 37,
     "metadata": {},
     "output_type": "execute_result"
    }
   ],
   "source": [
    "d7.keys()"
   ]
  },
  {
   "cell_type": "code",
   "execution_count": 38,
   "id": "8bcc4b9c-a811-403e-b376-ccbb6d1f6006",
   "metadata": {},
   "outputs": [
    {
     "data": {
      "text/plain": [
       "['assignments', 'launch_date', 'class_time', 'mentor']"
      ]
     },
     "execution_count": 38,
     "metadata": {},
     "output_type": "execute_result"
    }
   ],
   "source": [
    "list(d7.keys())"
   ]
  },
  {
   "cell_type": "code",
   "execution_count": 39,
   "id": "cb11d430-e717-4b01-9840-2deec76fe9af",
   "metadata": {},
   "outputs": [
    {
     "data": {
      "text/plain": [
       "dict_values([(1, 2, 3, 4, 5, 6), {28, 12, 14}, {'web_dev': 8, 'data science masters': 8, 'java with dsa system design': 7}, ['sudhanshu', 'krish', 'anurag', 'hayder']])"
      ]
     },
     "execution_count": 39,
     "metadata": {},
     "output_type": "execute_result"
    }
   ],
   "source": [
    "d7.values()"
   ]
  },
  {
   "cell_type": "code",
   "execution_count": 40,
   "id": "09c9acc3-ec17-44fc-b70a-e0624a8b1328",
   "metadata": {},
   "outputs": [
    {
     "data": {
      "text/plain": [
       "[(1, 2, 3, 4, 5, 6),\n",
       " {12, 14, 28},\n",
       " {'web_dev': 8, 'data science masters': 8, 'java with dsa system design': 7},\n",
       " ['sudhanshu', 'krish', 'anurag', 'hayder']]"
      ]
     },
     "execution_count": 40,
     "metadata": {},
     "output_type": "execute_result"
    }
   ],
   "source": [
    "list(d7.values())"
   ]
  },
  {
   "cell_type": "code",
   "execution_count": 41,
   "id": "d4310121-9532-4a00-98df-49e9bc7a3778",
   "metadata": {},
   "outputs": [
    {
     "data": {
      "text/plain": [
       "dict_items([('assignments', (1, 2, 3, 4, 5, 6)), ('launch_date', {28, 12, 14}), ('class_time', {'web_dev': 8, 'data science masters': 8, 'java with dsa system design': 7}), ('mentor', ['sudhanshu', 'krish', 'anurag', 'hayder'])])"
      ]
     },
     "execution_count": 41,
     "metadata": {},
     "output_type": "execute_result"
    }
   ],
   "source": [
    "d7.items()"
   ]
  },
  {
   "cell_type": "code",
   "execution_count": 42,
   "id": "a1f5242e-80dc-459a-b5cd-59fadb974972",
   "metadata": {},
   "outputs": [
    {
     "data": {
      "text/plain": [
       "[('assignments', (1, 2, 3, 4, 5, 6)),\n",
       " ('launch_date', {12, 14, 28}),\n",
       " ('class_time',\n",
       "  {'web_dev': 8, 'data science masters': 8, 'java with dsa system design': 7}),\n",
       " ('mentor', ['sudhanshu', 'krish', 'anurag', 'hayder'])]"
      ]
     },
     "execution_count": 42,
     "metadata": {},
     "output_type": "execute_result"
    }
   ],
   "source": [
    "list(d7.items())"
   ]
  },
  {
   "cell_type": "code",
   "execution_count": 45,
   "id": "d2b21d9e-40ac-44e2-be7c-5c293e43c525",
   "metadata": {},
   "outputs": [
    {
     "data": {
      "text/plain": [
       "(1, 2, 3, 4, 5, 6)"
      ]
     },
     "execution_count": 45,
     "metadata": {},
     "output_type": "execute_result"
    }
   ],
   "source": [
    "d7.pop('assignments')"
   ]
  },
  {
   "cell_type": "code",
   "execution_count": 46,
   "id": "581a48c4-adcc-4af5-956a-7bdda32e880b",
   "metadata": {},
   "outputs": [
    {
     "ename": "TypeError",
     "evalue": "pop expected at least 1 argument, got 0",
     "output_type": "error",
     "traceback": [
      "\u001b[0;31m---------------------------------------------------------------------------\u001b[0m",
      "\u001b[0;31mTypeError\u001b[0m                                 Traceback (most recent call last)",
      "Cell \u001b[0;32mIn[46], line 1\u001b[0m\n\u001b[0;32m----> 1\u001b[0m \u001b[43md7\u001b[49m\u001b[38;5;241;43m.\u001b[39;49m\u001b[43mpop\u001b[49m\u001b[43m(\u001b[49m\u001b[43m)\u001b[49m\n",
      "\u001b[0;31mTypeError\u001b[0m: pop expected at least 1 argument, got 0"
     ]
    }
   ],
   "source": [
    "d7.pop()"
   ]
  },
  {
   "cell_type": "code",
   "execution_count": 47,
   "id": "b95adc7e-100d-4626-a430-96ad4990c745",
   "metadata": {},
   "outputs": [],
   "source": [
    "#CONTROL FLOW STATEMENTS"
   ]
  },
  {
   "cell_type": "code",
   "execution_count": 54,
   "id": "f4fc95d8-f2f4-41b4-affa-f26158060ff7",
   "metadata": {},
   "outputs": [
    {
     "name": "stdout",
     "output_type": "stream",
     "text": [
      "You'll be a part of A3 Batch\n"
     ]
    }
   ],
   "source": [
    "marks = 10\n",
    "if marks >= 80 :\n",
    "    print(\"You'll be a part of A0 Batch\")\n",
    "elif marks >= 60 and marks < 80 :\n",
    "    print(\"You'll be a part of A1 Batch\")\n",
    "elif marks >= 40 and marks < 60 :\n",
    "    print(\"You'll be a part of A2 Batch\")\n",
    "else :\n",
    "    print(\"You'll be a part of A3 Batch\")"
   ]
  },
  {
   "cell_type": "code",
   "execution_count": 53,
   "id": "3ada4816-209e-4c6c-908b-29e51083bb2e",
   "metadata": {},
   "outputs": [
    {
     "data": {
      "text/plain": [
       "False"
      ]
     },
     "execution_count": 53,
     "metadata": {},
     "output_type": "execute_result"
    }
   ],
   "source": [
    "10 >= 80"
   ]
  },
  {
   "cell_type": "code",
   "execution_count": 56,
   "id": "4793fd25-bca2-4a27-a6c7-13db73390ac2",
   "metadata": {},
   "outputs": [
    {
     "name": "stdin",
     "output_type": "stream",
     "text": [
      "Enter your Marks : 45.5\n"
     ]
    },
    {
     "name": "stdout",
     "output_type": "stream",
     "text": [
      "You'll be a part of A2 Batch\n"
     ]
    }
   ],
   "source": [
    "marks = float(input(\"Enter your Marks :\"))\n",
    "if marks >= 80 :\n",
    "    print(\"You'll be a part of A0 Batch\")\n",
    "elif marks >= 60 and marks < 80 :\n",
    "    print(\"You'll be a part of A1 Batch\")\n",
    "elif marks >= 40 and marks < 60 :\n",
    "    print(\"You'll be a part of A2 Batch\")\n",
    "else :\n",
    "    print(\"You'll be a part of A3 Batch\")"
   ]
  },
  {
   "cell_type": "code",
   "execution_count": 58,
   "id": "420800da-9e10-4361-a476-65ccb6d5de9a",
   "metadata": {},
   "outputs": [
    {
     "name": "stdin",
     "output_type": "stream",
     "text": [
      "Enter Price : 200\n"
     ]
    },
    {
     "name": "stdout",
     "output_type": "stream",
     "text": [
      "I'll purchase\n"
     ]
    }
   ],
   "source": [
    "price = int(input(\"Enter Price :\"))\n",
    "if price > 1000:\n",
    "    print(\"I'll not purchase\")\n",
    "else:\n",
    "    print(\"I'll purchase\")"
   ]
  },
  {
   "cell_type": "code",
   "execution_count": 59,
   "id": "c159e666-d3e9-4876-ae9c-509c6c15efea",
   "metadata": {},
   "outputs": [
    {
     "name": "stdin",
     "output_type": "stream",
     "text": [
      "Enter Price : 700\n"
     ]
    }
   ],
   "source": [
    "price = int(input(\"Enter Price :\"))\n",
    "if price > 1000:\n",
    "    print(\"I'll not purchase\")"
   ]
  },
  {
   "cell_type": "code",
   "execution_count": 60,
   "id": "51fb5b88-f3c7-4147-8720-fe70a390c5af",
   "metadata": {},
   "outputs": [
    {
     "name": "stdin",
     "output_type": "stream",
     "text": [
      "Enter Price : 7000\n"
     ]
    },
    {
     "name": "stdout",
     "output_type": "stream",
     "text": [
      "I'll not purchase\n",
      "This is too much\n"
     ]
    }
   ],
   "source": [
    "price = int(input(\"Enter Price :\"))\n",
    "if price > 1000:\n",
    "    print(\"I'll not purchase\")\n",
    "    if price > 5000:\n",
    "        print(\"This is too much\")"
   ]
  },
  {
   "cell_type": "code",
   "execution_count": 61,
   "id": "50b230e7-9c31-4abc-8a97-8cfbda433304",
   "metadata": {},
   "outputs": [
    {
     "name": "stdin",
     "output_type": "stream",
     "text": [
      "Enter Price : 1500\n"
     ]
    },
    {
     "name": "stdout",
     "output_type": "stream",
     "text": [
      "I'll not purchase\n",
      "It's OK\n"
     ]
    }
   ],
   "source": [
    "price = int(input(\"Enter Price :\"))\n",
    "if price > 1000:\n",
    "    print(\"I'll not purchase\")\n",
    "    if price > 5000:\n",
    "        print(\"This is too much\")\n",
    "    elif price < 2000:\n",
    "        print(\"It's OK\")"
   ]
  },
  {
   "cell_type": "code",
   "execution_count": 62,
   "id": "d89dd164-e00d-44f6-b4d2-6c3edd21b6be",
   "metadata": {},
   "outputs": [
    {
     "name": "stdin",
     "output_type": "stream",
     "text": [
      "Enter Price : 1000\n"
     ]
    },
    {
     "name": "stdout",
     "output_type": "stream",
     "text": [
      "Not Interested\n"
     ]
    }
   ],
   "source": [
    "price = int(input(\"Enter Price :\"))\n",
    "if price > 1000:\n",
    "    print(\"I'll not purchase\")\n",
    "    if price > 5000:\n",
    "        print(\"This is too much\")\n",
    "    elif price < 2000:\n",
    "        print(\"It's OK\")\n",
    "elif price < 1000:\n",
    "    print(\"I'll purchase\")\n",
    "else:\n",
    "    print(\"Not Interested\")"
   ]
  },
  {
   "cell_type": "code",
   "execution_count": 63,
   "id": "4d72cc22-4cfd-4e3f-ac7f-a505710372a3",
   "metadata": {},
   "outputs": [],
   "source": [
    "l = [1,2,3,3,4,5,6,7,8]"
   ]
  },
  {
   "cell_type": "code",
   "execution_count": 67,
   "id": "24e07409-df95-4e73-b1d9-36b52e2d9ed9",
   "metadata": {},
   "outputs": [
    {
     "name": "stdout",
     "output_type": "stream",
     "text": [
      "2\n",
      "3\n",
      "4\n",
      "4\n",
      "5\n",
      "6\n",
      "7\n",
      "8\n",
      "9\n"
     ]
    },
    {
     "data": {
      "text/plain": [
       "[2, 3, 4, 4, 5, 6, 7, 8, 9]"
      ]
     },
     "execution_count": 67,
     "metadata": {},
     "output_type": "execute_result"
    }
   ],
   "source": [
    "l1 = []\n",
    "for i in l:\n",
    "    print(i+1)\n",
    "    l1.append(i+1)\n",
    "l1    "
   ]
  },
  {
   "cell_type": "code",
   "execution_count": 68,
   "id": "eceabb62-be2d-440f-9766-e7a6f8c1b63a",
   "metadata": {},
   "outputs": [
    {
     "data": {
      "text/plain": [
       "[1, 2, 3, 3, 4, 5, 6, 7, 8]"
      ]
     },
     "execution_count": 68,
     "metadata": {},
     "output_type": "execute_result"
    }
   ],
   "source": [
    "l"
   ]
  },
  {
   "cell_type": "code",
   "execution_count": 69,
   "id": "bf25d8ec-aa91-43b0-ac96-12fa3d1be534",
   "metadata": {},
   "outputs": [],
   "source": [
    "l = [\"sudh\" , \"kumar\" , \"pwskills\" , \"course\"]"
   ]
  },
  {
   "cell_type": "code",
   "execution_count": 71,
   "id": "b22e1aae-58a5-4c60-a83d-c8fb0c360b7d",
   "metadata": {},
   "outputs": [
    {
     "name": "stdout",
     "output_type": "stream",
     "text": [
      "sudh\n",
      "kumar\n",
      "pwskills\n",
      "course\n"
     ]
    }
   ],
   "source": [
    "l1=[]\n",
    "for i in l:\n",
    "    print(i)\n",
    "    l1.append(i.upper())"
   ]
  },
  {
   "cell_type": "code",
   "execution_count": 72,
   "id": "333a8f39-ec42-4d44-a493-2b30e801d054",
   "metadata": {},
   "outputs": [
    {
     "data": {
      "text/plain": [
       "['SUDH', 'KUMAR', 'PWSKILLS', 'COURSE']"
      ]
     },
     "execution_count": 72,
     "metadata": {},
     "output_type": "execute_result"
    }
   ],
   "source": [
    "l1"
   ]
  },
  {
   "cell_type": "code",
   "execution_count": 73,
   "id": "cbcb7614-42bf-4c61-9eab-6a85361a82eb",
   "metadata": {},
   "outputs": [],
   "source": [
    "l = [1,2,3,4,4,\"sudh\",\"kumar\",324,34.456,\"abc\"]"
   ]
  },
  {
   "cell_type": "code",
   "execution_count": 76,
   "id": "f346d85d-ecb3-4912-9a80-5eb299a00d32",
   "metadata": {},
   "outputs": [
    {
     "data": {
      "text/plain": [
       "['sudh', 'kumar', 'abc']"
      ]
     },
     "execution_count": 76,
     "metadata": {},
     "output_type": "execute_result"
    }
   ],
   "source": [
    "l1_num=[]\n",
    "l2_str=[]\n",
    "for i in l:\n",
    "    if type(i) == int or type(i) == float:\n",
    "        l1_num.append(i)\n",
    "    else:\n",
    "        l2_str.append(i)"
   ]
  },
  {
   "cell_type": "code",
   "execution_count": 77,
   "id": "3e058b34-3d44-4652-8fa7-e5dfcf8062fc",
   "metadata": {},
   "outputs": [
    {
     "data": {
      "text/plain": [
       "[1, 2, 3, 4, 4, 324, 34.456]"
      ]
     },
     "execution_count": 77,
     "metadata": {},
     "output_type": "execute_result"
    }
   ],
   "source": [
    "l1_num"
   ]
  },
  {
   "cell_type": "code",
   "execution_count": 78,
   "id": "62416a9d-8142-405f-9f48-42b19896313b",
   "metadata": {},
   "outputs": [
    {
     "data": {
      "text/plain": [
       "['sudh', 'kumar', 'abc']"
      ]
     },
     "execution_count": 78,
     "metadata": {},
     "output_type": "execute_result"
    }
   ],
   "source": [
    "l2_str"
   ]
  },
  {
   "cell_type": "code",
   "execution_count": null,
   "id": "6f0f17ce-6fd4-41aa-97f8-08d68a70ecf1",
   "metadata": {},
   "outputs": [],
   "source": []
  }
 ],
 "metadata": {
  "kernelspec": {
   "display_name": "Python 3 (ipykernel)",
   "language": "python",
   "name": "python3"
  },
  "language_info": {
   "codemirror_mode": {
    "name": "ipython",
    "version": 3
   },
   "file_extension": ".py",
   "mimetype": "text/x-python",
   "name": "python",
   "nbconvert_exporter": "python",
   "pygments_lexer": "ipython3",
   "version": "3.10.8"
  }
 },
 "nbformat": 4,
 "nbformat_minor": 5
}
