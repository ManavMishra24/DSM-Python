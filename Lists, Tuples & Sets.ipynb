{
 "cells": [
  {
   "cell_type": "code",
   "execution_count": 1,
   "id": "c493ae5c-ec61-4019-b4e7-7c0e7898ed89",
   "metadata": {},
   "outputs": [],
   "source": [
    "l = [1,345,45,\"manav\",True,5+7j,345.456]"
   ]
  },
  {
   "cell_type": "code",
   "execution_count": 2,
   "id": "bbc3e10b-9c5b-4df0-8ccb-1e7560a9b889",
   "metadata": {},
   "outputs": [
    {
     "data": {
      "text/plain": [
       "list"
      ]
     },
     "execution_count": 2,
     "metadata": {},
     "output_type": "execute_result"
    }
   ],
   "source": [
    "type(l)"
   ]
  },
  {
   "cell_type": "code",
   "execution_count": 3,
   "id": "861468b5-93bd-4370-b41d-881d63db2672",
   "metadata": {},
   "outputs": [
    {
     "data": {
      "text/plain": [
       "1"
      ]
     },
     "execution_count": 3,
     "metadata": {},
     "output_type": "execute_result"
    }
   ],
   "source": [
    "l[0]"
   ]
  },
  {
   "cell_type": "code",
   "execution_count": 4,
   "id": "282857c7-1f23-45b1-a811-230b5edcf06a",
   "metadata": {},
   "outputs": [
    {
     "data": {
      "text/plain": [
       "345.456"
      ]
     },
     "execution_count": 4,
     "metadata": {},
     "output_type": "execute_result"
    }
   ],
   "source": [
    "l[6]"
   ]
  },
  {
   "cell_type": "code",
   "execution_count": 5,
   "id": "7da5c0cf-5b35-4488-86ab-b9316347359f",
   "metadata": {},
   "outputs": [
    {
     "ename": "IndexError",
     "evalue": "list index out of range",
     "output_type": "error",
     "traceback": [
      "\u001b[0;31m---------------------------------------------------------------------------\u001b[0m",
      "\u001b[0;31mIndexError\u001b[0m                                Traceback (most recent call last)",
      "Cell \u001b[0;32mIn[5], line 1\u001b[0m\n\u001b[0;32m----> 1\u001b[0m \u001b[43ml\u001b[49m\u001b[43m[\u001b[49m\u001b[38;5;241;43m90\u001b[39;49m\u001b[43m]\u001b[49m\n",
      "\u001b[0;31mIndexError\u001b[0m: list index out of range"
     ]
    }
   ],
   "source": [
    "l[90]"
   ]
  },
  {
   "cell_type": "code",
   "execution_count": 6,
   "id": "043f6ac1-1558-4610-85a6-5c1ff2749149",
   "metadata": {},
   "outputs": [
    {
     "data": {
      "text/plain": [
       "[1, 345, 45, 'manav', True, (5+7j), 345.456]"
      ]
     },
     "execution_count": 6,
     "metadata": {},
     "output_type": "execute_result"
    }
   ],
   "source": [
    "l"
   ]
  },
  {
   "cell_type": "code",
   "execution_count": 7,
   "id": "ec382dd0-6185-442e-a51a-de7bf8f0438e",
   "metadata": {},
   "outputs": [
    {
     "data": {
      "text/plain": [
       "[1, 345, 45]"
      ]
     },
     "execution_count": 7,
     "metadata": {},
     "output_type": "execute_result"
    }
   ],
   "source": [
    "l[0:3]"
   ]
  },
  {
   "cell_type": "code",
   "execution_count": 8,
   "id": "ce2745d4-bcc4-44a5-b72c-437a2e07ba6b",
   "metadata": {},
   "outputs": [
    {
     "data": {
      "text/plain": [
       "345.456"
      ]
     },
     "execution_count": 8,
     "metadata": {},
     "output_type": "execute_result"
    }
   ],
   "source": [
    "l[-1]"
   ]
  },
  {
   "cell_type": "code",
   "execution_count": 9,
   "id": "b6d75458-9974-4dd9-bd36-b9730953e440",
   "metadata": {},
   "outputs": [
    {
     "data": {
      "text/plain": [
       "[345.456, (5+7j), True, 'manav', 45, 345, 1]"
      ]
     },
     "execution_count": 9,
     "metadata": {},
     "output_type": "execute_result"
    }
   ],
   "source": [
    "l[::-1]"
   ]
  },
  {
   "cell_type": "code",
   "execution_count": 10,
   "id": "1fe1b475-639c-4887-80a1-469da14f3c7e",
   "metadata": {},
   "outputs": [
    {
     "data": {
      "text/plain": [
       "[1, 45, True, 345.456]"
      ]
     },
     "execution_count": 10,
     "metadata": {},
     "output_type": "execute_result"
    }
   ],
   "source": [
    "l[0::2]"
   ]
  },
  {
   "cell_type": "code",
   "execution_count": 11,
   "id": "cec01e8a-a11c-42de-b696-8736eb76e1c7",
   "metadata": {},
   "outputs": [
    {
     "data": {
      "text/plain": [
       "[1, 345, 45, 'manav', True, (5+7j), 345.456]"
      ]
     },
     "execution_count": 11,
     "metadata": {},
     "output_type": "execute_result"
    }
   ],
   "source": [
    "l"
   ]
  },
  {
   "cell_type": "code",
   "execution_count": 12,
   "id": "8e47025e-d161-49ec-804c-4754ef6002be",
   "metadata": {},
   "outputs": [],
   "source": [
    "s = \"pwskills\""
   ]
  },
  {
   "cell_type": "code",
   "execution_count": 13,
   "id": "cc19f0c1-175b-406d-9d5c-56d5d09cb35c",
   "metadata": {},
   "outputs": [
    {
     "ename": "TypeError",
     "evalue": "can only concatenate list (not \"str\") to list",
     "output_type": "error",
     "traceback": [
      "\u001b[0;31m---------------------------------------------------------------------------\u001b[0m",
      "\u001b[0;31mTypeError\u001b[0m                                 Traceback (most recent call last)",
      "Cell \u001b[0;32mIn[13], line 1\u001b[0m\n\u001b[0;32m----> 1\u001b[0m \u001b[43ml\u001b[49m\u001b[38;5;241;43m+\u001b[39;49m\u001b[43ms\u001b[49m\n",
      "\u001b[0;31mTypeError\u001b[0m: can only concatenate list (not \"str\") to list"
     ]
    }
   ],
   "source": [
    "l+s"
   ]
  },
  {
   "cell_type": "code",
   "execution_count": 14,
   "id": "a5e4170c-7f61-413f-8aa9-8b415c8d9a94",
   "metadata": {},
   "outputs": [
    {
     "ename": "NameError",
     "evalue": "name 'lists' is not defined",
     "output_type": "error",
     "traceback": [
      "\u001b[0;31m---------------------------------------------------------------------------\u001b[0m",
      "\u001b[0;31mNameError\u001b[0m                                 Traceback (most recent call last)",
      "Cell \u001b[0;32mIn[14], line 1\u001b[0m\n\u001b[0;32m----> 1\u001b[0m \u001b[43mlists\u001b[49m(s)\n",
      "\u001b[0;31mNameError\u001b[0m: name 'lists' is not defined"
     ]
    }
   ],
   "source": [
    "lists(s)"
   ]
  },
  {
   "cell_type": "code",
   "execution_count": 15,
   "id": "fdc44fff-c0f0-458b-b690-46550c67ce23",
   "metadata": {},
   "outputs": [
    {
     "data": {
      "text/plain": [
       "['p', 'w', 's', 'k', 'i', 'l', 'l', 's']"
      ]
     },
     "execution_count": 15,
     "metadata": {},
     "output_type": "execute_result"
    }
   ],
   "source": [
    "list(s)"
   ]
  },
  {
   "cell_type": "code",
   "execution_count": 16,
   "id": "28b352d3-1bc0-4bc2-9466-7dd7a7cb45b2",
   "metadata": {},
   "outputs": [
    {
     "data": {
      "text/plain": [
       "['p',\n",
       " 'w',\n",
       " 's',\n",
       " 'k',\n",
       " 'i',\n",
       " 'l',\n",
       " 'l',\n",
       " 's',\n",
       " 1,\n",
       " 345,\n",
       " 45,\n",
       " 'manav',\n",
       " True,\n",
       " (5+7j),\n",
       " 345.456]"
      ]
     },
     "execution_count": 16,
     "metadata": {},
     "output_type": "execute_result"
    }
   ],
   "source": [
    "list(s)+l"
   ]
  },
  {
   "cell_type": "code",
   "execution_count": 17,
   "id": "787825fb-5b29-466b-95b7-2e62007e03a7",
   "metadata": {},
   "outputs": [
    {
     "data": {
      "text/plain": [
       "[1, 345, 45, 'manav', True, (5+7j), 345.456]"
      ]
     },
     "execution_count": 17,
     "metadata": {},
     "output_type": "execute_result"
    }
   ],
   "source": [
    "l"
   ]
  },
  {
   "cell_type": "code",
   "execution_count": 18,
   "id": "ef588ffe-e30b-4241-8113-fb5fbff51336",
   "metadata": {},
   "outputs": [
    {
     "data": {
      "text/plain": [
       "'manav'"
      ]
     },
     "execution_count": 18,
     "metadata": {},
     "output_type": "execute_result"
    }
   ],
   "source": [
    "l[3]"
   ]
  },
  {
   "cell_type": "code",
   "execution_count": 19,
   "id": "fad50846-b0fe-4974-a757-bd48fef40208",
   "metadata": {},
   "outputs": [
    {
     "data": {
      "text/plain": [
       "str"
      ]
     },
     "execution_count": 19,
     "metadata": {},
     "output_type": "execute_result"
    }
   ],
   "source": [
    "type(l[3])"
   ]
  },
  {
   "cell_type": "code",
   "execution_count": 20,
   "id": "a30610dc-276f-4db4-a39d-8cdfb8ceb2b9",
   "metadata": {},
   "outputs": [
    {
     "data": {
      "text/plain": [
       "'ma'"
      ]
     },
     "execution_count": 20,
     "metadata": {},
     "output_type": "execute_result"
    }
   ],
   "source": [
    "l[3][0:2]"
   ]
  },
  {
   "cell_type": "code",
   "execution_count": 21,
   "id": "6d53503d-553c-4bd6-b000-e9fd03cd2705",
   "metadata": {},
   "outputs": [
    {
     "data": {
      "text/plain": [
       "True"
      ]
     },
     "execution_count": 21,
     "metadata": {},
     "output_type": "execute_result"
    }
   ],
   "source": [
    "l[4]"
   ]
  },
  {
   "cell_type": "code",
   "execution_count": 22,
   "id": "65e00ae9-98fb-4b05-84be-e66d033469cb",
   "metadata": {},
   "outputs": [
    {
     "data": {
      "text/plain": [
       "'Tr'"
      ]
     },
     "execution_count": 22,
     "metadata": {},
     "output_type": "execute_result"
    }
   ],
   "source": [
    "str(l[4])[0:2]"
   ]
  },
  {
   "cell_type": "code",
   "execution_count": 23,
   "id": "d5d19d06-4abd-48ff-9b92-1239831ccb03",
   "metadata": {},
   "outputs": [
    {
     "data": {
      "text/plain": [
       "[1, 345, 45, 'manav', True, (5+7j), 345.456]"
      ]
     },
     "execution_count": 23,
     "metadata": {},
     "output_type": "execute_result"
    }
   ],
   "source": [
    "l"
   ]
  },
  {
   "cell_type": "code",
   "execution_count": 24,
   "id": "6bfb37d4-b3f8-4dd2-bb02-2d1408361020",
   "metadata": {},
   "outputs": [
    {
     "ename": "TypeError",
     "evalue": "can only concatenate list (not \"int\") to list",
     "output_type": "error",
     "traceback": [
      "\u001b[0;31m---------------------------------------------------------------------------\u001b[0m",
      "\u001b[0;31mTypeError\u001b[0m                                 Traceback (most recent call last)",
      "Cell \u001b[0;32mIn[24], line 1\u001b[0m\n\u001b[0;32m----> 1\u001b[0m \u001b[43ml\u001b[49m\u001b[38;5;241;43m+\u001b[39;49m\u001b[38;5;241;43m5\u001b[39;49m\n",
      "\u001b[0;31mTypeError\u001b[0m: can only concatenate list (not \"int\") to list"
     ]
    }
   ],
   "source": [
    "l+5"
   ]
  },
  {
   "cell_type": "code",
   "execution_count": 25,
   "id": "fe81b779-893f-4e7e-8793-d5ce028db54d",
   "metadata": {},
   "outputs": [],
   "source": [
    "l1 = [3,4,5]"
   ]
  },
  {
   "cell_type": "code",
   "execution_count": 26,
   "id": "c9c916e1-a6e3-4a8a-a907-bc9fae929c66",
   "metadata": {},
   "outputs": [
    {
     "data": {
      "text/plain": [
       "[1, 345, 45, 'manav', True, (5+7j), 345.456, 3, 4, 5]"
      ]
     },
     "execution_count": 26,
     "metadata": {},
     "output_type": "execute_result"
    }
   ],
   "source": [
    "l+l1"
   ]
  },
  {
   "cell_type": "code",
   "execution_count": 27,
   "id": "59514f42-d1c0-4b0b-bcc4-754c8c849347",
   "metadata": {},
   "outputs": [
    {
     "data": {
      "text/plain": [
       "[3, 4, 5]"
      ]
     },
     "execution_count": 27,
     "metadata": {},
     "output_type": "execute_result"
    }
   ],
   "source": [
    "l1"
   ]
  },
  {
   "cell_type": "code",
   "execution_count": 28,
   "id": "ccecb566-3e23-4182-a6a4-8a84aee6ee3d",
   "metadata": {},
   "outputs": [
    {
     "data": {
      "text/plain": [
       "[3, 4, 5, 3, 4, 5, 3, 4, 5]"
      ]
     },
     "execution_count": 28,
     "metadata": {},
     "output_type": "execute_result"
    }
   ],
   "source": [
    "l1*3"
   ]
  },
  {
   "cell_type": "code",
   "execution_count": 29,
   "id": "1b523364-4ca0-46b6-9e1a-dcbec20affe6",
   "metadata": {},
   "outputs": [
    {
     "data": {
      "text/plain": [
       "[1, 345, 45, 'manav', True, (5+7j), 345.456]"
      ]
     },
     "execution_count": 29,
     "metadata": {},
     "output_type": "execute_result"
    }
   ],
   "source": [
    "l"
   ]
  },
  {
   "cell_type": "code",
   "execution_count": 30,
   "id": "f83155b0-7261-4cbc-9d70-b24d903cdc79",
   "metadata": {},
   "outputs": [
    {
     "data": {
      "text/plain": [
       "7"
      ]
     },
     "execution_count": 30,
     "metadata": {},
     "output_type": "execute_result"
    }
   ],
   "source": [
    "len(l)"
   ]
  },
  {
   "cell_type": "code",
   "execution_count": 31,
   "id": "9eeb59b3-0176-49b3-acde-9b4fc1d281ab",
   "metadata": {},
   "outputs": [],
   "source": [
    "l.append(5)"
   ]
  },
  {
   "cell_type": "code",
   "execution_count": 32,
   "id": "03534112-8954-492c-af66-8061c9ecfd42",
   "metadata": {},
   "outputs": [
    {
     "data": {
      "text/plain": [
       "[1, 345, 45, 'manav', True, (5+7j), 345.456, 5]"
      ]
     },
     "execution_count": 32,
     "metadata": {},
     "output_type": "execute_result"
    }
   ],
   "source": [
    "l"
   ]
  },
  {
   "cell_type": "code",
   "execution_count": 36,
   "id": "ffb96273-a9bc-4234-993f-a6cb3144d824",
   "metadata": {},
   "outputs": [
    {
     "data": {
      "text/plain": [
       "'pwskills'"
      ]
     },
     "execution_count": 36,
     "metadata": {},
     "output_type": "execute_result"
    }
   ],
   "source": [
    "s"
   ]
  },
  {
   "cell_type": "code",
   "execution_count": 50,
   "id": "55088965-97bd-422b-8c4a-3da90fc68281",
   "metadata": {},
   "outputs": [],
   "source": [
    "l.append(s)"
   ]
  },
  {
   "cell_type": "code",
   "execution_count": 39,
   "id": "9854a1ce-d90c-4e89-8e66-22ec0782ed30",
   "metadata": {},
   "outputs": [],
   "source": [
    "l.append(l1)"
   ]
  },
  {
   "cell_type": "code",
   "execution_count": 46,
   "id": "54b8a6b6-f374-48d2-9944-85f64bc19e08",
   "metadata": {},
   "outputs": [
    {
     "data": {
      "text/plain": [
       "[1,\n",
       " 345,\n",
       " 45,\n",
       " 'manav',\n",
       " True,\n",
       " (5+7j),\n",
       " 345.456,\n",
       " 5,\n",
       " 'pwskills',\n",
       " 'pwskills',\n",
       " 'pwskills',\n",
       " [3, 4, 5]]"
      ]
     },
     "execution_count": 46,
     "metadata": {},
     "output_type": "execute_result"
    }
   ],
   "source": [
    "l"
   ]
  },
  {
   "cell_type": "code",
   "execution_count": 43,
   "id": "aa04ed50-cb8a-40b2-bce1-ee6c668ee52d",
   "metadata": {},
   "outputs": [
    {
     "data": {
      "text/plain": [
       "[3, 4, 5]"
      ]
     },
     "execution_count": 43,
     "metadata": {},
     "output_type": "execute_result"
    }
   ],
   "source": [
    "l[-1]"
   ]
  },
  {
   "cell_type": "code",
   "execution_count": 44,
   "id": "2aebf308-cdb5-444a-81a2-82070fa9d448",
   "metadata": {},
   "outputs": [
    {
     "data": {
      "text/plain": [
       "4"
      ]
     },
     "execution_count": 44,
     "metadata": {},
     "output_type": "execute_result"
    }
   ],
   "source": [
    "l[-1][1]"
   ]
  },
  {
   "cell_type": "code",
   "execution_count": 47,
   "id": "10856065-fc42-47d2-bcb3-2603f2528b69",
   "metadata": {},
   "outputs": [
    {
     "ename": "TypeError",
     "evalue": "'int' object is not iterable",
     "output_type": "error",
     "traceback": [
      "\u001b[0;31m---------------------------------------------------------------------------\u001b[0m",
      "\u001b[0;31mTypeError\u001b[0m                                 Traceback (most recent call last)",
      "Cell \u001b[0;32mIn[47], line 1\u001b[0m\n\u001b[0;32m----> 1\u001b[0m \u001b[43ml\u001b[49m\u001b[38;5;241;43m.\u001b[39;49m\u001b[43mextend\u001b[49m\u001b[43m(\u001b[49m\u001b[38;5;241;43m4\u001b[39;49m\u001b[43m)\u001b[49m\n",
      "\u001b[0;31mTypeError\u001b[0m: 'int' object is not iterable"
     ]
    }
   ],
   "source": [
    "l.extend(4)"
   ]
  },
  {
   "cell_type": "code",
   "execution_count": 48,
   "id": "5932aea8-e9ac-4c18-b2ed-eb5e96334f6a",
   "metadata": {},
   "outputs": [],
   "source": [
    "l.extend(\"manav\")"
   ]
  },
  {
   "cell_type": "code",
   "execution_count": 49,
   "id": "571fc54e-0d13-4cb9-8bf4-c927fb72e22a",
   "metadata": {},
   "outputs": [
    {
     "data": {
      "text/plain": [
       "[1,\n",
       " 345,\n",
       " 45,\n",
       " 'manav',\n",
       " True,\n",
       " (5+7j),\n",
       " 345.456,\n",
       " 5,\n",
       " 'pwskills',\n",
       " 'pwskills',\n",
       " 'pwskills',\n",
       " [3, 4, 5],\n",
       " 'm',\n",
       " 'a',\n",
       " 'n',\n",
       " 'a',\n",
       " 'v']"
      ]
     },
     "execution_count": 49,
     "metadata": {},
     "output_type": "execute_result"
    }
   ],
   "source": [
    "l"
   ]
  },
  {
   "cell_type": "code",
   "execution_count": 52,
   "id": "78f4a7b1-7030-4509-bfef-387f85f04092",
   "metadata": {},
   "outputs": [],
   "source": [
    "l.extend([3,4,5])"
   ]
  },
  {
   "cell_type": "code",
   "execution_count": 53,
   "id": "2ed714a9-2cb4-4bcc-8525-006f290c36cc",
   "metadata": {},
   "outputs": [
    {
     "data": {
      "text/plain": [
       "[1,\n",
       " 345,\n",
       " 45,\n",
       " 'manav',\n",
       " True,\n",
       " (5+7j),\n",
       " 345.456,\n",
       " 5,\n",
       " 'pwskills',\n",
       " 'pwskills',\n",
       " 'pwskills',\n",
       " [3, 4, 5],\n",
       " 'm',\n",
       " 'a',\n",
       " 'n',\n",
       " 'a',\n",
       " 'v',\n",
       " 'pwskills',\n",
       " 3,\n",
       " 4,\n",
       " 5]"
      ]
     },
     "execution_count": 53,
     "metadata": {},
     "output_type": "execute_result"
    }
   ],
   "source": [
    "l"
   ]
  },
  {
   "cell_type": "code",
   "execution_count": 54,
   "id": "e114307a-1a41-46a7-811b-1a14ea77c700",
   "metadata": {},
   "outputs": [
    {
     "data": {
      "text/plain": [
       "[3, 4, 5]"
      ]
     },
     "execution_count": 54,
     "metadata": {},
     "output_type": "execute_result"
    }
   ],
   "source": [
    "l1"
   ]
  },
  {
   "cell_type": "code",
   "execution_count": 56,
   "id": "f1d54cb6-2d79-4ea5-955a-600a4cda3f3b",
   "metadata": {},
   "outputs": [],
   "source": [
    "l = [1,45,345,True, 5+7j,345.456]"
   ]
  },
  {
   "cell_type": "code",
   "execution_count": 57,
   "id": "47e2c5ef-5588-4c25-9d41-a6c9d1606644",
   "metadata": {},
   "outputs": [
    {
     "data": {
      "text/plain": [
       "[1, 45, 345, True, (5+7j), 345.456]"
      ]
     },
     "execution_count": 57,
     "metadata": {},
     "output_type": "execute_result"
    }
   ],
   "source": [
    "l"
   ]
  },
  {
   "cell_type": "code",
   "execution_count": 58,
   "id": "412fd33a-8dbc-474c-9a86-70a3755bc449",
   "metadata": {},
   "outputs": [
    {
     "data": {
      "text/plain": [
       "[3, 4, 5]"
      ]
     },
     "execution_count": 58,
     "metadata": {},
     "output_type": "execute_result"
    }
   ],
   "source": [
    "l1"
   ]
  },
  {
   "cell_type": "code",
   "execution_count": 61,
   "id": "c5ea1788-62fa-495f-a3cd-ec216d0372de",
   "metadata": {},
   "outputs": [],
   "source": [
    "l1.insert(0, 2)"
   ]
  },
  {
   "cell_type": "code",
   "execution_count": 63,
   "id": "1b38faa4-4c21-401e-b85b-38301f002714",
   "metadata": {},
   "outputs": [
    {
     "data": {
      "text/plain": [
       "[2, 3, 4, 5]"
      ]
     },
     "execution_count": 63,
     "metadata": {},
     "output_type": "execute_result"
    }
   ],
   "source": [
    "l1"
   ]
  },
  {
   "cell_type": "code",
   "execution_count": 64,
   "id": "3e1354db-1d6e-43d8-b4d3-7e739a2522ba",
   "metadata": {},
   "outputs": [],
   "source": [
    "l1.insert(3, [1,3,4])"
   ]
  },
  {
   "cell_type": "code",
   "execution_count": 65,
   "id": "91df0b52-1530-4c39-a6cc-67fb721f8465",
   "metadata": {},
   "outputs": [
    {
     "data": {
      "text/plain": [
       "[2, 3, 4, [1, 3, 4], 5]"
      ]
     },
     "execution_count": 65,
     "metadata": {},
     "output_type": "execute_result"
    }
   ],
   "source": [
    "l1"
   ]
  },
  {
   "cell_type": "code",
   "execution_count": 66,
   "id": "c40ea801-f953-4fa6-8e44-945285e3096f",
   "metadata": {},
   "outputs": [],
   "source": [
    "l1.insert(-1, 45)"
   ]
  },
  {
   "cell_type": "code",
   "execution_count": 67,
   "id": "51120232-57e4-48ea-83c6-15ff6e39db41",
   "metadata": {},
   "outputs": [
    {
     "data": {
      "text/plain": [
       "[2, 3, 4, [1, 3, 4], 45, 5]"
      ]
     },
     "execution_count": 67,
     "metadata": {},
     "output_type": "execute_result"
    }
   ],
   "source": [
    "l1"
   ]
  },
  {
   "cell_type": "code",
   "execution_count": 68,
   "id": "c485cfaa-dd74-4982-9cf4-ce014033a4a7",
   "metadata": {},
   "outputs": [],
   "source": [
    "l1.insert(0, 45)"
   ]
  },
  {
   "cell_type": "code",
   "execution_count": 69,
   "id": "688b0965-c084-45d9-8e3c-cdf1e097b568",
   "metadata": {},
   "outputs": [
    {
     "data": {
      "text/plain": [
       "[45, 2, 3, 4, [1, 3, 4], 45, 5]"
      ]
     },
     "execution_count": 69,
     "metadata": {},
     "output_type": "execute_result"
    }
   ],
   "source": [
    "l1"
   ]
  },
  {
   "cell_type": "code",
   "execution_count": 70,
   "id": "fea0a455-9ef1-4847-b935-2fd49ecd03e3",
   "metadata": {},
   "outputs": [
    {
     "data": {
      "text/plain": [
       "5"
      ]
     },
     "execution_count": 70,
     "metadata": {},
     "output_type": "execute_result"
    }
   ],
   "source": [
    "l1.pop()"
   ]
  },
  {
   "cell_type": "code",
   "execution_count": 71,
   "id": "4557bd2a-09ef-4b67-a829-04d929c2f17f",
   "metadata": {},
   "outputs": [
    {
     "data": {
      "text/plain": [
       "[45, 2, 3, 4, [1, 3, 4], 45]"
      ]
     },
     "execution_count": 71,
     "metadata": {},
     "output_type": "execute_result"
    }
   ],
   "source": [
    "l1"
   ]
  },
  {
   "cell_type": "code",
   "execution_count": 72,
   "id": "e325a557-a260-4e86-b95a-af58b9ceffcb",
   "metadata": {},
   "outputs": [
    {
     "data": {
      "text/plain": [
       "<function list.pop(index=-1, /)>"
      ]
     },
     "execution_count": 72,
     "metadata": {},
     "output_type": "execute_result"
    }
   ],
   "source": [
    "l1.pop"
   ]
  },
  {
   "cell_type": "code",
   "execution_count": 73,
   "id": "59471673-8313-46d3-a51f-7cf55dfb60d2",
   "metadata": {},
   "outputs": [
    {
     "ename": "NameError",
     "evalue": "name 'l1pop' is not defined",
     "output_type": "error",
     "traceback": [
      "\u001b[0;31m---------------------------------------------------------------------------\u001b[0m",
      "\u001b[0;31mNameError\u001b[0m                                 Traceback (most recent call last)",
      "Cell \u001b[0;32mIn[73], line 1\u001b[0m\n\u001b[0;32m----> 1\u001b[0m \u001b[43ml1pop\u001b[49m()\n",
      "\u001b[0;31mNameError\u001b[0m: name 'l1pop' is not defined"
     ]
    }
   ],
   "source": [
    "l1pop()"
   ]
  },
  {
   "cell_type": "code",
   "execution_count": 74,
   "id": "cdee8ba6-abe4-4342-8df3-d148fa5dfcb6",
   "metadata": {},
   "outputs": [
    {
     "data": {
      "text/plain": [
       "45"
      ]
     },
     "execution_count": 74,
     "metadata": {},
     "output_type": "execute_result"
    }
   ],
   "source": [
    "l1.pop()"
   ]
  },
  {
   "cell_type": "code",
   "execution_count": 75,
   "id": "26725f24-8972-44b5-86e3-8aa54793689b",
   "metadata": {},
   "outputs": [
    {
     "data": {
      "text/plain": [
       "[45, 2, 3, 4, [1, 3, 4]]"
      ]
     },
     "execution_count": 75,
     "metadata": {},
     "output_type": "execute_result"
    }
   ],
   "source": [
    "l1"
   ]
  },
  {
   "cell_type": "code",
   "execution_count": 76,
   "id": "ed2b2b78-e5a6-4bbe-80d3-db7d3685504c",
   "metadata": {},
   "outputs": [
    {
     "data": {
      "text/plain": [
       "3"
      ]
     },
     "execution_count": 76,
     "metadata": {},
     "output_type": "execute_result"
    }
   ],
   "source": [
    "l1.pop(2)"
   ]
  },
  {
   "cell_type": "code",
   "execution_count": 77,
   "id": "ee48bfbf-bf95-49f6-8ec4-a5de6bcd2551",
   "metadata": {},
   "outputs": [
    {
     "data": {
      "text/plain": [
       "[45, 2, 4, [1, 3, 4]]"
      ]
     },
     "execution_count": 77,
     "metadata": {},
     "output_type": "execute_result"
    }
   ],
   "source": [
    "l1"
   ]
  },
  {
   "cell_type": "code",
   "execution_count": 78,
   "id": "142815d5-7554-4cf1-89ba-9a85451cab65",
   "metadata": {},
   "outputs": [
    {
     "ename": "TypeError",
     "evalue": "list.remove() takes exactly one argument (0 given)",
     "output_type": "error",
     "traceback": [
      "\u001b[0;31m---------------------------------------------------------------------------\u001b[0m",
      "\u001b[0;31mTypeError\u001b[0m                                 Traceback (most recent call last)",
      "Cell \u001b[0;32mIn[78], line 1\u001b[0m\n\u001b[0;32m----> 1\u001b[0m \u001b[43ml1\u001b[49m\u001b[38;5;241;43m.\u001b[39;49m\u001b[43mremove\u001b[49m\u001b[43m(\u001b[49m\u001b[43m)\u001b[49m\n",
      "\u001b[0;31mTypeError\u001b[0m: list.remove() takes exactly one argument (0 given)"
     ]
    }
   ],
   "source": [
    "l1.remove()"
   ]
  },
  {
   "cell_type": "code",
   "execution_count": 80,
   "id": "04f975b5-9f1b-442c-af6d-3a17314e57c0",
   "metadata": {},
   "outputs": [],
   "source": [
    "l1.remove(4)"
   ]
  },
  {
   "cell_type": "code",
   "execution_count": 81,
   "id": "f2a3339e-055e-449f-a5d0-3d373444ce7a",
   "metadata": {},
   "outputs": [
    {
     "data": {
      "text/plain": [
       "[45, 2, [1, 3, 4]]"
      ]
     },
     "execution_count": 81,
     "metadata": {},
     "output_type": "execute_result"
    }
   ],
   "source": [
    "l1"
   ]
  },
  {
   "cell_type": "code",
   "execution_count": 82,
   "id": "4f9efa74-3ee9-48e9-b72b-3abe49c3e343",
   "metadata": {},
   "outputs": [
    {
     "ename": "ValueError",
     "evalue": "list.remove(x): x not in list",
     "output_type": "error",
     "traceback": [
      "\u001b[0;31m---------------------------------------------------------------------------\u001b[0m",
      "\u001b[0;31mValueError\u001b[0m                                Traceback (most recent call last)",
      "Cell \u001b[0;32mIn[82], line 1\u001b[0m\n\u001b[0;32m----> 1\u001b[0m \u001b[43ml1\u001b[49m\u001b[38;5;241;43m.\u001b[39;49m\u001b[43mremove\u001b[49m\u001b[43m(\u001b[49m\u001b[38;5;241;43m245\u001b[39;49m\u001b[43m)\u001b[49m\n",
      "\u001b[0;31mValueError\u001b[0m: list.remove(x): x not in list"
     ]
    }
   ],
   "source": [
    "l1.remove(245)"
   ]
  },
  {
   "cell_type": "code",
   "execution_count": 83,
   "id": "36c7db19-55a5-4102-9b3e-3c31889ce302",
   "metadata": {},
   "outputs": [
    {
     "ename": "TypeError",
     "evalue": "'builtin_function_or_method' object is not subscriptable",
     "output_type": "error",
     "traceback": [
      "\u001b[0;31m---------------------------------------------------------------------------\u001b[0m",
      "\u001b[0;31mTypeError\u001b[0m                                 Traceback (most recent call last)",
      "Cell \u001b[0;32mIn[83], line 1\u001b[0m\n\u001b[0;32m----> 1\u001b[0m \u001b[43ml1\u001b[49m\u001b[38;5;241;43m.\u001b[39;49m\u001b[43mremove\u001b[49m\u001b[43m[\u001b[49m\u001b[38;5;241;43m2\u001b[39;49m\u001b[43m]\u001b[49m\n",
      "\u001b[0;31mTypeError\u001b[0m: 'builtin_function_or_method' object is not subscriptable"
     ]
    }
   ],
   "source": [
    "l1.remove[2]"
   ]
  },
  {
   "cell_type": "code",
   "execution_count": 84,
   "id": "c4ee7c93-7f69-44dd-9f8c-f07fad277360",
   "metadata": {},
   "outputs": [
    {
     "data": {
      "text/plain": [
       "[1, 3, 4]"
      ]
     },
     "execution_count": 84,
     "metadata": {},
     "output_type": "execute_result"
    }
   ],
   "source": [
    "l1[2]"
   ]
  },
  {
   "cell_type": "code",
   "execution_count": 85,
   "id": "76549727-6edb-48b9-9ba1-269e9766909a",
   "metadata": {},
   "outputs": [],
   "source": [
    "l1[2].remove(3)"
   ]
  },
  {
   "cell_type": "code",
   "execution_count": 86,
   "id": "bbcadbba-da62-405e-9b76-a97ad99ffc86",
   "metadata": {},
   "outputs": [
    {
     "data": {
      "text/plain": [
       "[45, 2, [1, 4]]"
      ]
     },
     "execution_count": 86,
     "metadata": {},
     "output_type": "execute_result"
    }
   ],
   "source": [
    "l1"
   ]
  },
  {
   "cell_type": "code",
   "execution_count": 88,
   "id": "0f5621ff-d806-4733-a6a5-eb62df59b07f",
   "metadata": {},
   "outputs": [],
   "source": [
    "l1.insert(1, \"sudh\")"
   ]
  },
  {
   "cell_type": "code",
   "execution_count": 89,
   "id": "ceff6a1c-cd99-4773-97d4-bf74228da38c",
   "metadata": {},
   "outputs": [
    {
     "data": {
      "text/plain": [
       "[45, 'sudh', 2, [1, 4]]"
      ]
     },
     "execution_count": 89,
     "metadata": {},
     "output_type": "execute_result"
    }
   ],
   "source": [
    "l1"
   ]
  },
  {
   "cell_type": "code",
   "execution_count": 90,
   "id": "8c1e3622-1dfd-450b-ac01-f22e8487f2f4",
   "metadata": {},
   "outputs": [],
   "source": [
    "l1.append(4)"
   ]
  },
  {
   "cell_type": "code",
   "execution_count": 91,
   "id": "e82bf01a-3045-4e39-8ebf-77e93fd700b0",
   "metadata": {},
   "outputs": [
    {
     "data": {
      "text/plain": [
       "[45, 'sudh', 2, [1, 4], 4]"
      ]
     },
     "execution_count": 91,
     "metadata": {},
     "output_type": "execute_result"
    }
   ],
   "source": [
    "l1"
   ]
  },
  {
   "cell_type": "code",
   "execution_count": 92,
   "id": "229ca97f-3553-46a9-ad5c-cf9a21e067f4",
   "metadata": {},
   "outputs": [],
   "source": [
    "l1.append(4)"
   ]
  },
  {
   "cell_type": "code",
   "execution_count": 93,
   "id": "e5b202b4-8748-464a-b7eb-56b7e4190d12",
   "metadata": {},
   "outputs": [
    {
     "data": {
      "text/plain": [
       "[45, 'sudh', 2, [1, 4], 4, 4]"
      ]
     },
     "execution_count": 93,
     "metadata": {},
     "output_type": "execute_result"
    }
   ],
   "source": [
    "l1"
   ]
  },
  {
   "cell_type": "code",
   "execution_count": 94,
   "id": "b6ccf23d-d8e9-4148-8dc5-75714eb57cf3",
   "metadata": {},
   "outputs": [],
   "source": [
    "l1.remove(4)"
   ]
  },
  {
   "cell_type": "code",
   "execution_count": 95,
   "id": "84cad052-0cbf-4856-b3d3-8170b099ad46",
   "metadata": {},
   "outputs": [
    {
     "data": {
      "text/plain": [
       "[45, 'sudh', 2, [1, 4], 4]"
      ]
     },
     "execution_count": 95,
     "metadata": {},
     "output_type": "execute_result"
    }
   ],
   "source": [
    "l1"
   ]
  },
  {
   "cell_type": "code",
   "execution_count": 103,
   "id": "1b141a3d-3987-4f3b-b0c1-916ec1eca56f",
   "metadata": {},
   "outputs": [],
   "source": [
    "l1=l1[::-1]"
   ]
  },
  {
   "cell_type": "code",
   "execution_count": 101,
   "id": "b14b5a5b-c220-4c8d-98e7-3057d17d318b",
   "metadata": {},
   "outputs": [],
   "source": [
    "l1.reverse()"
   ]
  },
  {
   "cell_type": "code",
   "execution_count": 102,
   "id": "b387af0d-b4dc-4822-92ea-6864c626a5dd",
   "metadata": {},
   "outputs": [
    {
     "data": {
      "text/plain": [
       "[45, 'sudh', 2, [1, 4], 4]"
      ]
     },
     "execution_count": 102,
     "metadata": {},
     "output_type": "execute_result"
    }
   ],
   "source": [
    "l1"
   ]
  },
  {
   "cell_type": "code",
   "execution_count": 104,
   "id": "d2966e75-4026-475e-9e40-cfa2dac2092e",
   "metadata": {},
   "outputs": [
    {
     "ename": "TypeError",
     "evalue": "'<' not supported between instances of 'list' and 'int'",
     "output_type": "error",
     "traceback": [
      "\u001b[0;31m---------------------------------------------------------------------------\u001b[0m",
      "\u001b[0;31mTypeError\u001b[0m                                 Traceback (most recent call last)",
      "Cell \u001b[0;32mIn[104], line 1\u001b[0m\n\u001b[0;32m----> 1\u001b[0m \u001b[43ml1\u001b[49m\u001b[38;5;241;43m.\u001b[39;49m\u001b[43msort\u001b[49m\u001b[43m(\u001b[49m\u001b[43m)\u001b[49m\n",
      "\u001b[0;31mTypeError\u001b[0m: '<' not supported between instances of 'list' and 'int'"
     ]
    }
   ],
   "source": [
    "l1.sort()"
   ]
  },
  {
   "cell_type": "code",
   "execution_count": 109,
   "id": "7ce1b12a-0c56-49a5-a1ed-4fbaa169ec88",
   "metadata": {},
   "outputs": [],
   "source": [
    "l2 = [93,54,36,64,71,81,9]"
   ]
  },
  {
   "cell_type": "code",
   "execution_count": 110,
   "id": "c543393f-82e1-4fbd-811c-014bf753e724",
   "metadata": {},
   "outputs": [],
   "source": [
    "l2.sort()"
   ]
  },
  {
   "cell_type": "code",
   "execution_count": 112,
   "id": "2ad22652-3129-4bde-8f12-2c21ea88077f",
   "metadata": {},
   "outputs": [
    {
     "data": {
      "text/plain": [
       "[9, 36, 54, 64, 71, 81, 93]"
      ]
     },
     "execution_count": 112,
     "metadata": {},
     "output_type": "execute_result"
    }
   ],
   "source": [
    "l2"
   ]
  },
  {
   "cell_type": "code",
   "execution_count": 113,
   "id": "5a614ef9-1ca7-4052-bf56-0131b3006a97",
   "metadata": {},
   "outputs": [],
   "source": [
    "l3=[34,\"manav\",45,12]"
   ]
  },
  {
   "cell_type": "code",
   "execution_count": 114,
   "id": "ffb9d51d-b0a8-43db-8ea1-0c01bf2afa1a",
   "metadata": {},
   "outputs": [
    {
     "ename": "TypeError",
     "evalue": "'<' not supported between instances of 'str' and 'int'",
     "output_type": "error",
     "traceback": [
      "\u001b[0;31m---------------------------------------------------------------------------\u001b[0m",
      "\u001b[0;31mTypeError\u001b[0m                                 Traceback (most recent call last)",
      "Cell \u001b[0;32mIn[114], line 1\u001b[0m\n\u001b[0;32m----> 1\u001b[0m \u001b[43ml3\u001b[49m\u001b[38;5;241;43m.\u001b[39;49m\u001b[43msort\u001b[49m\u001b[43m(\u001b[49m\u001b[43m)\u001b[49m\n",
      "\u001b[0;31mTypeError\u001b[0m: '<' not supported between instances of 'str' and 'int'"
     ]
    }
   ],
   "source": [
    "l3.sort()"
   ]
  },
  {
   "cell_type": "code",
   "execution_count": 115,
   "id": "f3e3b014-3e51-46d5-aaa3-e4fcefee6246",
   "metadata": {},
   "outputs": [],
   "source": [
    "l4=[\"sudh\", \"kumar\", \"pwskills\", \"data science\"]"
   ]
  },
  {
   "cell_type": "code",
   "execution_count": 116,
   "id": "84b0a19b-e5bc-4451-addd-846f3a14c1fb",
   "metadata": {},
   "outputs": [],
   "source": [
    "l4.sort()"
   ]
  },
  {
   "cell_type": "code",
   "execution_count": 117,
   "id": "7325c84a-20f3-4b71-af37-6abcd3378643",
   "metadata": {},
   "outputs": [
    {
     "data": {
      "text/plain": [
       "['data science', 'kumar', 'pwskills', 'sudh']"
      ]
     },
     "execution_count": 117,
     "metadata": {},
     "output_type": "execute_result"
    }
   ],
   "source": [
    "l4"
   ]
  },
  {
   "cell_type": "code",
   "execution_count": 118,
   "id": "3f40f509-819b-4bd3-83ff-f5a829d4001c",
   "metadata": {},
   "outputs": [],
   "source": [
    "l4.sort(reverse=True)"
   ]
  },
  {
   "cell_type": "code",
   "execution_count": 119,
   "id": "f7c7a087-a232-4e97-bc43-0c385a851dd0",
   "metadata": {},
   "outputs": [
    {
     "data": {
      "text/plain": [
       "['sudh', 'pwskills', 'kumar', 'data science']"
      ]
     },
     "execution_count": 119,
     "metadata": {},
     "output_type": "execute_result"
    }
   ],
   "source": [
    "l4"
   ]
  },
  {
   "cell_type": "code",
   "execution_count": 120,
   "id": "cc40886b-4531-41a4-bb62-b31954f0567e",
   "metadata": {},
   "outputs": [
    {
     "data": {
      "text/plain": [
       "0"
      ]
     },
     "execution_count": 120,
     "metadata": {},
     "output_type": "execute_result"
    }
   ],
   "source": [
    "l4.index(\"sudh\")"
   ]
  },
  {
   "cell_type": "code",
   "execution_count": 121,
   "id": "b7d804ee-4aaf-489c-9838-d47580cbcab7",
   "metadata": {},
   "outputs": [
    {
     "data": {
      "text/plain": [
       "1"
      ]
     },
     "execution_count": 121,
     "metadata": {},
     "output_type": "execute_result"
    }
   ],
   "source": [
    "l4.count(\"sudh\")"
   ]
  },
  {
   "cell_type": "code",
   "execution_count": 122,
   "id": "1cd6c519-a6fd-477f-93a7-bc178ea4fb7d",
   "metadata": {},
   "outputs": [],
   "source": [
    "s=\"sudh\""
   ]
  },
  {
   "cell_type": "code",
   "execution_count": 123,
   "id": "a75e8a32-8fa8-425d-b350-1ce9b7c66451",
   "metadata": {},
   "outputs": [],
   "source": [
    "l5=[3,4,5,6]"
   ]
  },
  {
   "cell_type": "code",
   "execution_count": 125,
   "id": "55efcaee-3b56-40fd-a2a9-f3f171570fcf",
   "metadata": {},
   "outputs": [
    {
     "ename": "TypeError",
     "evalue": "'str' object does not support item assignment",
     "output_type": "error",
     "traceback": [
      "\u001b[0;31m---------------------------------------------------------------------------\u001b[0m",
      "\u001b[0;31mTypeError\u001b[0m                                 Traceback (most recent call last)",
      "Cell \u001b[0;32mIn[125], line 1\u001b[0m\n\u001b[0;32m----> 1\u001b[0m \u001b[43ms\u001b[49m\u001b[43m[\u001b[49m\u001b[38;5;241;43m0\u001b[39;49m\u001b[43m]\u001b[49m \u001b[38;5;241m=\u001b[39m \u001b[38;5;124m'\u001b[39m\u001b[38;5;124ma\u001b[39m\u001b[38;5;124m'\u001b[39m\n",
      "\u001b[0;31mTypeError\u001b[0m: 'str' object does not support item assignment"
     ]
    }
   ],
   "source": [
    "s[0] = 'a'"
   ]
  },
  {
   "cell_type": "code",
   "execution_count": 126,
   "id": "0b5bb8b1-304b-4d20-8a93-b910306185d4",
   "metadata": {},
   "outputs": [],
   "source": [
    "l5[0]=30"
   ]
  },
  {
   "cell_type": "code",
   "execution_count": 127,
   "id": "f739e16c-5dae-44a7-bee3-4995f42d81d0",
   "metadata": {},
   "outputs": [
    {
     "data": {
      "text/plain": [
       "[30, 4, 5, 6]"
      ]
     },
     "execution_count": 127,
     "metadata": {},
     "output_type": "execute_result"
    }
   ],
   "source": [
    "l5"
   ]
  },
  {
   "cell_type": "code",
   "execution_count": 128,
   "id": "608562e0-3981-498c-b175-c6cfbac90e24",
   "metadata": {},
   "outputs": [],
   "source": [
    "# Strings are Immutable Entity\n",
    "# Lists are Mutable Entity"
   ]
  },
  {
   "cell_type": "code",
   "execution_count": 129,
   "id": "f94e1f41-b868-498c-b8ce-66e2736935c5",
   "metadata": {},
   "outputs": [
    {
     "data": {
      "text/plain": [
       "'sudh'"
      ]
     },
     "execution_count": 129,
     "metadata": {},
     "output_type": "execute_result"
    }
   ],
   "source": [
    "s"
   ]
  },
  {
   "cell_type": "code",
   "execution_count": 130,
   "id": "4c0faa2b-dcb8-45eb-856d-1802bf827ba2",
   "metadata": {},
   "outputs": [
    {
     "data": {
      "text/plain": [
       "'audh'"
      ]
     },
     "execution_count": 130,
     "metadata": {},
     "output_type": "execute_result"
    }
   ],
   "source": [
    "s.replace('s', 'a')"
   ]
  },
  {
   "cell_type": "code",
   "execution_count": 131,
   "id": "67623702-d7bf-4519-bae3-208abff9d7a7",
   "metadata": {},
   "outputs": [
    {
     "data": {
      "text/plain": [
       "'sudh'"
      ]
     },
     "execution_count": 131,
     "metadata": {},
     "output_type": "execute_result"
    }
   ],
   "source": [
    "s"
   ]
  },
  {
   "cell_type": "code",
   "execution_count": 132,
   "id": "5fb8bd78-c6b3-4f07-9fad-b569242e7e74",
   "metadata": {},
   "outputs": [],
   "source": [
    "# Hence, above example shows Immutability in Strings Data Type."
   ]
  },
  {
   "cell_type": "code",
   "execution_count": 133,
   "id": "8418e2ca-f24c-4110-8b4c-9f45f0eef3da",
   "metadata": {},
   "outputs": [],
   "source": [
    "# TUPLES IN PYTHON"
   ]
  },
  {
   "cell_type": "code",
   "execution_count": 135,
   "id": "33e48c62-4459-463c-b487-85c28eada294",
   "metadata": {},
   "outputs": [],
   "source": [
    "t = (2,3,4,5,\"sudh\",45.56, False, 45+457j, [3,4,5])"
   ]
  },
  {
   "cell_type": "code",
   "execution_count": 136,
   "id": "04aa00df-21b7-4159-a35a-bf04d7efad07",
   "metadata": {},
   "outputs": [
    {
     "data": {
      "text/plain": [
       "(2, 3, 4, 5, 'sudh', 45.56, False, (45+457j), [3, 4, 5])"
      ]
     },
     "execution_count": 136,
     "metadata": {},
     "output_type": "execute_result"
    }
   ],
   "source": [
    "t"
   ]
  },
  {
   "cell_type": "code",
   "execution_count": 137,
   "id": "374310ea-8ec4-46c9-84f3-81300998049b",
   "metadata": {},
   "outputs": [
    {
     "data": {
      "text/plain": [
       "tuple"
      ]
     },
     "execution_count": 137,
     "metadata": {},
     "output_type": "execute_result"
    }
   ],
   "source": [
    "type(t)"
   ]
  },
  {
   "cell_type": "code",
   "execution_count": 138,
   "id": "541a53ec-dcb6-46e5-9cb8-da84594d46cf",
   "metadata": {},
   "outputs": [
    {
     "data": {
      "text/plain": [
       "9"
      ]
     },
     "execution_count": 138,
     "metadata": {},
     "output_type": "execute_result"
    }
   ],
   "source": [
    "len(t)"
   ]
  },
  {
   "cell_type": "code",
   "execution_count": 139,
   "id": "2c7a9788-02ad-4e04-a137-48df276e2f3f",
   "metadata": {},
   "outputs": [
    {
     "data": {
      "text/plain": [
       "2"
      ]
     },
     "execution_count": 139,
     "metadata": {},
     "output_type": "execute_result"
    }
   ],
   "source": [
    "t[0]"
   ]
  },
  {
   "cell_type": "code",
   "execution_count": 140,
   "id": "1e268a5b-c4ff-4e21-a588-98d4f3ee3de4",
   "metadata": {},
   "outputs": [
    {
     "data": {
      "text/plain": [
       "[3, 4, 5]"
      ]
     },
     "execution_count": 140,
     "metadata": {},
     "output_type": "execute_result"
    }
   ],
   "source": [
    "t[-1]"
   ]
  },
  {
   "cell_type": "code",
   "execution_count": 141,
   "id": "f96f05aa-e125-4f62-9062-ca5ada134f7e",
   "metadata": {},
   "outputs": [
    {
     "data": {
      "text/plain": [
       "([3, 4, 5], (45+457j), False, 45.56, 'sudh', 5, 4, 3, 2)"
      ]
     },
     "execution_count": 141,
     "metadata": {},
     "output_type": "execute_result"
    }
   ],
   "source": [
    "t[::-1]"
   ]
  },
  {
   "cell_type": "code",
   "execution_count": 142,
   "id": "c30f8214-ec02-4a9e-b40c-16ca0bf0c61f",
   "metadata": {},
   "outputs": [
    {
     "data": {
      "text/plain": [
       "(2, 3, 4, 5, 'sudh', 45.56, False, (45+457j), [3, 4, 5])"
      ]
     },
     "execution_count": 142,
     "metadata": {},
     "output_type": "execute_result"
    }
   ],
   "source": [
    "t"
   ]
  },
  {
   "cell_type": "code",
   "execution_count": 143,
   "id": "838f6296-7248-4ab5-9e2c-bfc702bc416d",
   "metadata": {},
   "outputs": [
    {
     "data": {
      "text/plain": [
       "['sudh', 'pwskills', 'kumar', 'data science']"
      ]
     },
     "execution_count": 143,
     "metadata": {},
     "output_type": "execute_result"
    }
   ],
   "source": [
    "l4"
   ]
  },
  {
   "cell_type": "code",
   "execution_count": 144,
   "id": "6ee6c412-83b5-4899-96dc-6ccaf3950373",
   "metadata": {},
   "outputs": [
    {
     "data": {
      "text/plain": [
       "'sudh'"
      ]
     },
     "execution_count": 144,
     "metadata": {},
     "output_type": "execute_result"
    }
   ],
   "source": [
    "l4[0]"
   ]
  },
  {
   "cell_type": "code",
   "execution_count": 145,
   "id": "6d9149bf-af35-4aa4-b773-ee0ad96499dc",
   "metadata": {},
   "outputs": [],
   "source": [
    "l4[0] = 2345"
   ]
  },
  {
   "cell_type": "code",
   "execution_count": 146,
   "id": "67cdca6f-8ea1-4e6d-9c98-f98b3eb4f785",
   "metadata": {},
   "outputs": [
    {
     "data": {
      "text/plain": [
       "[2345, 'pwskills', 'kumar', 'data science']"
      ]
     },
     "execution_count": 146,
     "metadata": {},
     "output_type": "execute_result"
    }
   ],
   "source": [
    "l4"
   ]
  },
  {
   "cell_type": "code",
   "execution_count": 147,
   "id": "5904096a-2cc0-4dab-8956-b4f65410a5ae",
   "metadata": {},
   "outputs": [
    {
     "data": {
      "text/plain": [
       "(2, 3, 4, 5, 'sudh', 45.56, False, (45+457j), [3, 4, 5])"
      ]
     },
     "execution_count": 147,
     "metadata": {},
     "output_type": "execute_result"
    }
   ],
   "source": [
    "t"
   ]
  },
  {
   "cell_type": "code",
   "execution_count": 148,
   "id": "934a3f54-758c-42aa-80ca-aebcd94760b7",
   "metadata": {},
   "outputs": [
    {
     "data": {
      "text/plain": [
       "2"
      ]
     },
     "execution_count": 148,
     "metadata": {},
     "output_type": "execute_result"
    }
   ],
   "source": [
    "t[0]"
   ]
  },
  {
   "cell_type": "code",
   "execution_count": 149,
   "id": "e1a5e4f8-185a-4978-ab05-9eec7d5958a8",
   "metadata": {},
   "outputs": [
    {
     "ename": "TypeError",
     "evalue": "'tuple' object does not support item assignment",
     "output_type": "error",
     "traceback": [
      "\u001b[0;31m---------------------------------------------------------------------------\u001b[0m",
      "\u001b[0;31mTypeError\u001b[0m                                 Traceback (most recent call last)",
      "Cell \u001b[0;32mIn[149], line 1\u001b[0m\n\u001b[0;32m----> 1\u001b[0m \u001b[43mt\u001b[49m\u001b[43m[\u001b[49m\u001b[38;5;241;43m0\u001b[39;49m\u001b[43m]\u001b[49m \u001b[38;5;241m=\u001b[39m \u001b[38;5;124m\"\u001b[39m\u001b[38;5;124msudh\u001b[39m\u001b[38;5;124m\"\u001b[39m\n",
      "\u001b[0;31mTypeError\u001b[0m: 'tuple' object does not support item assignment"
     ]
    }
   ],
   "source": [
    "t[0] = \"sudh\""
   ]
  },
  {
   "cell_type": "code",
   "execution_count": 150,
   "id": "495cacba-82c9-4391-9aa9-b6dc2eedc829",
   "metadata": {},
   "outputs": [],
   "source": [
    "# This shows Tuples is also collection but follows the concept of Immutability."
   ]
  },
  {
   "cell_type": "code",
   "execution_count": 151,
   "id": "8ede7553-6c94-4da3-bbc8-aab9850c8601",
   "metadata": {},
   "outputs": [
    {
     "data": {
      "text/plain": [
       "([3, 4, 5], (45+457j), False, 45.56, 'sudh', 5, 4, 3, 2)"
      ]
     },
     "execution_count": 151,
     "metadata": {},
     "output_type": "execute_result"
    }
   ],
   "source": [
    "t[::-1]"
   ]
  },
  {
   "cell_type": "code",
   "execution_count": 152,
   "id": "64d3a8f0-f875-40b4-bc5f-ca4753078813",
   "metadata": {},
   "outputs": [
    {
     "data": {
      "text/plain": [
       "1"
      ]
     },
     "execution_count": 152,
     "metadata": {},
     "output_type": "execute_result"
    }
   ],
   "source": [
    "t.count(5)"
   ]
  },
  {
   "cell_type": "code",
   "execution_count": 153,
   "id": "046a50f5-790a-4e62-ad24-22db9d9f4094",
   "metadata": {},
   "outputs": [
    {
     "data": {
      "text/plain": [
       "0"
      ]
     },
     "execution_count": 153,
     "metadata": {},
     "output_type": "execute_result"
    }
   ],
   "source": [
    "t.count(50)"
   ]
  },
  {
   "cell_type": "code",
   "execution_count": 154,
   "id": "e2b351c9-b518-4163-9bf7-3dc571cc1b66",
   "metadata": {},
   "outputs": [
    {
     "data": {
      "text/plain": [
       "6"
      ]
     },
     "execution_count": 154,
     "metadata": {},
     "output_type": "execute_result"
    }
   ],
   "source": [
    "t.index(False)"
   ]
  },
  {
   "cell_type": "code",
   "execution_count": 155,
   "id": "5cc15135-2ccf-4432-895c-2b52bc0b9123",
   "metadata": {},
   "outputs": [
    {
     "data": {
      "text/plain": [
       "(2, 3, 4, 5, 'sudh', 45.56, False, (45+457j), [3, 4, 5])"
      ]
     },
     "execution_count": 155,
     "metadata": {},
     "output_type": "execute_result"
    }
   ],
   "source": [
    "t"
   ]
  },
  {
   "cell_type": "code",
   "execution_count": 156,
   "id": "8c77ac0a-41a1-42ac-aa19-5223e308a96b",
   "metadata": {},
   "outputs": [],
   "source": [
    "# SETS IN PYTHON"
   ]
  },
  {
   "cell_type": "code",
   "execution_count": 157,
   "id": "369b0ec7-638c-41fb-8d1b-93b5408a5d21",
   "metadata": {},
   "outputs": [],
   "source": [
    "s1={}"
   ]
  },
  {
   "cell_type": "code",
   "execution_count": 158,
   "id": "e512fbc7-65ec-4a3e-b46f-eb8bcef84fbf",
   "metadata": {},
   "outputs": [
    {
     "data": {
      "text/plain": [
       "dict"
      ]
     },
     "execution_count": 158,
     "metadata": {},
     "output_type": "execute_result"
    }
   ],
   "source": [
    "type(s1)"
   ]
  },
  {
   "cell_type": "code",
   "execution_count": 159,
   "id": "67d4fa31-a3e4-4194-87e8-22234dada302",
   "metadata": {},
   "outputs": [],
   "source": [
    "s2={2,3,4,55,6}"
   ]
  },
  {
   "cell_type": "code",
   "execution_count": 160,
   "id": "3541fedc-df1b-4a61-baa4-a18a0df5a43c",
   "metadata": {},
   "outputs": [
    {
     "data": {
      "text/plain": [
       "set"
      ]
     },
     "execution_count": 160,
     "metadata": {},
     "output_type": "execute_result"
    }
   ],
   "source": [
    "type(s2)"
   ]
  },
  {
   "cell_type": "code",
   "execution_count": 162,
   "id": "f295b46c-e3a1-444e-817e-5e68427c5e00",
   "metadata": {},
   "outputs": [
    {
     "ename": "TypeError",
     "evalue": "unhashable type: 'list'",
     "output_type": "error",
     "traceback": [
      "\u001b[0;31m---------------------------------------------------------------------------\u001b[0m",
      "\u001b[0;31mTypeError\u001b[0m                                 Traceback (most recent call last)",
      "Cell \u001b[0;32mIn[162], line 1\u001b[0m\n\u001b[0;32m----> 1\u001b[0m s3 \u001b[38;5;241m=\u001b[39m {\u001b[38;5;241m324\u001b[39m,\u001b[38;5;241m456\u001b[39m,\u001b[38;5;241m456\u001b[39m, \u001b[38;5;124m\"\u001b[39m\u001b[38;5;124msudh\u001b[39m\u001b[38;5;124m\"\u001b[39m, \u001b[38;5;241m45\u001b[39m\u001b[38;5;241m+\u001b[39m\u001b[38;5;241m45\u001b[39mj, \u001b[38;5;241m34.465\u001b[39m, [\u001b[38;5;241m3\u001b[39m,\u001b[38;5;241m4\u001b[39m,\u001b[38;5;241m5\u001b[39m]}\n",
      "\u001b[0;31mTypeError\u001b[0m: unhashable type: 'list'"
     ]
    }
   ],
   "source": [
    "s3 = {324,456,456, \"sudh\", 45+45j, 34.465, [3,4,5]}"
   ]
  },
  {
   "cell_type": "code",
   "execution_count": 163,
   "id": "b9917936-4d4e-4cf4-a15d-a1e1efd8e02a",
   "metadata": {},
   "outputs": [],
   "source": [
    "s3 = {324,456,456, \"sudh\", 45+45j, 34.465, (3,4,5)}"
   ]
  },
  {
   "cell_type": "code",
   "execution_count": 164,
   "id": "994f94b7-4df5-4239-bcb3-759dbc1dc592",
   "metadata": {},
   "outputs": [
    {
     "data": {
      "text/plain": [
       "{(3, 4, 5), (45+45j), 324, 34.465, 456, 'sudh'}"
      ]
     },
     "execution_count": 164,
     "metadata": {},
     "output_type": "execute_result"
    }
   ],
   "source": [
    "s3"
   ]
  },
  {
   "cell_type": "code",
   "execution_count": 172,
   "id": "62e818ba-849f-4eb7-a076-1cfb4bf7e9ef",
   "metadata": {},
   "outputs": [],
   "source": [
    "s4={2,3,4,5,6,2,2,2,3,3,3,5,5,6,1,2,4,4,3, \"Sudh\", \"sudh\"}"
   ]
  },
  {
   "cell_type": "code",
   "execution_count": 173,
   "id": "241535b7-2383-466b-998f-a5a5a51f84ec",
   "metadata": {},
   "outputs": [
    {
     "data": {
      "text/plain": [
       "{1, 2, 3, 4, 5, 6, 'Sudh', 'sudh'}"
      ]
     },
     "execution_count": 173,
     "metadata": {},
     "output_type": "execute_result"
    }
   ],
   "source": [
    "s4"
   ]
  },
  {
   "cell_type": "code",
   "execution_count": 174,
   "id": "b1561c26-342f-4081-a579-54d50d705f52",
   "metadata": {},
   "outputs": [],
   "source": [
    "l6 = [2,3,4,5,6,2,2,2,3,3,3,5,5,6,1,2,4,4,3, \"Sudh\", \"sudh\"]"
   ]
  },
  {
   "cell_type": "code",
   "execution_count": 175,
   "id": "3651bdae-3bac-471f-b340-3f2d9e87889b",
   "metadata": {},
   "outputs": [],
   "source": [
    "l6 = list(set(l6))"
   ]
  },
  {
   "cell_type": "code",
   "execution_count": 176,
   "id": "ae8c63d7-395a-4f9e-b2e6-efb0ea441a90",
   "metadata": {},
   "outputs": [
    {
     "data": {
      "text/plain": [
       "[1, 2, 3, 4, 5, 6, 'sudh', 'Sudh']"
      ]
     },
     "execution_count": 176,
     "metadata": {},
     "output_type": "execute_result"
    }
   ],
   "source": [
    "l6"
   ]
  },
  {
   "cell_type": "code",
   "execution_count": 178,
   "id": "2faabfd1-2823-4bf7-adca-f2212f03e8ec",
   "metadata": {},
   "outputs": [],
   "source": [
    "s5 = {234,45,23,12,567,789,\"abc\",456,23,342}"
   ]
  },
  {
   "cell_type": "code",
   "execution_count": 179,
   "id": "e24e7765-a60e-4846-97e2-eb871c0f45e3",
   "metadata": {},
   "outputs": [
    {
     "data": {
      "text/plain": [
       "{12, 23, 234, 342, 45, 456, 567, 789, 'abc'}"
      ]
     },
     "execution_count": 179,
     "metadata": {},
     "output_type": "execute_result"
    }
   ],
   "source": [
    "s5"
   ]
  },
  {
   "cell_type": "code",
   "execution_count": 180,
   "id": "6a8c2e58-a2a1-40b6-ba8b-829c9f1d6f33",
   "metadata": {},
   "outputs": [
    {
     "ename": "TypeError",
     "evalue": "'set' object is not subscriptable",
     "output_type": "error",
     "traceback": [
      "\u001b[0;31m---------------------------------------------------------------------------\u001b[0m",
      "\u001b[0;31mTypeError\u001b[0m                                 Traceback (most recent call last)",
      "Cell \u001b[0;32mIn[180], line 1\u001b[0m\n\u001b[0;32m----> 1\u001b[0m \u001b[43ms5\u001b[49m\u001b[43m[\u001b[49m\u001b[38;5;241;43m0\u001b[39;49m\u001b[43m]\u001b[49m\n",
      "\u001b[0;31mTypeError\u001b[0m: 'set' object is not subscriptable"
     ]
    }
   ],
   "source": [
    "s5[0]"
   ]
  },
  {
   "cell_type": "code",
   "execution_count": 181,
   "id": "686b70b1-61c9-4e18-836d-df1b7f221f02",
   "metadata": {},
   "outputs": [
    {
     "ename": "TypeError",
     "evalue": "'set' object is not subscriptable",
     "output_type": "error",
     "traceback": [
      "\u001b[0;31m---------------------------------------------------------------------------\u001b[0m",
      "\u001b[0;31mTypeError\u001b[0m                                 Traceback (most recent call last)",
      "Cell \u001b[0;32mIn[181], line 1\u001b[0m\n\u001b[0;32m----> 1\u001b[0m \u001b[43ms5\u001b[49m\u001b[43m[\u001b[49m\u001b[43m:\u001b[49m\u001b[43m:\u001b[49m\u001b[38;5;241;43m-\u001b[39;49m\u001b[38;5;241;43m1\u001b[39;49m\u001b[43m]\u001b[49m\n",
      "\u001b[0;31mTypeError\u001b[0m: 'set' object is not subscriptable"
     ]
    }
   ],
   "source": [
    "s5[::-1]"
   ]
  },
  {
   "cell_type": "code",
   "execution_count": 182,
   "id": "23fbca75-f703-40cf-b236-4f766b2e225b",
   "metadata": {},
   "outputs": [],
   "source": [
    "s5.add(4)"
   ]
  },
  {
   "cell_type": "code",
   "execution_count": 183,
   "id": "b50c6ccf-a996-4d38-8dba-50c6ad917950",
   "metadata": {},
   "outputs": [
    {
     "data": {
      "text/plain": [
       "{12, 23, 234, 342, 4, 45, 456, 567, 789, 'abc'}"
      ]
     },
     "execution_count": 183,
     "metadata": {},
     "output_type": "execute_result"
    }
   ],
   "source": [
    "s5"
   ]
  },
  {
   "cell_type": "code",
   "execution_count": 184,
   "id": "cc6ce9fd-e39a-4e7b-b418-a0dc58a3f9a3",
   "metadata": {},
   "outputs": [],
   "source": [
    "s5.remove(342)"
   ]
  },
  {
   "cell_type": "code",
   "execution_count": 185,
   "id": "4023ad22-1789-4b12-8f12-0c7a3b689c15",
   "metadata": {},
   "outputs": [
    {
     "data": {
      "text/plain": [
       "{12, 23, 234, 4, 45, 456, 567, 789, 'abc'}"
      ]
     },
     "execution_count": 185,
     "metadata": {},
     "output_type": "execute_result"
    }
   ],
   "source": [
    "s5"
   ]
  },
  {
   "cell_type": "code",
   "execution_count": null,
   "id": "9b89b849-7569-4b2b-9623-9418335a2a3c",
   "metadata": {},
   "outputs": [],
   "source": []
  }
 ],
 "metadata": {
  "kernelspec": {
   "display_name": "Python 3 (ipykernel)",
   "language": "python",
   "name": "python3"
  },
  "language_info": {
   "codemirror_mode": {
    "name": "ipython",
    "version": 3
   },
   "file_extension": ".py",
   "mimetype": "text/x-python",
   "name": "python",
   "nbconvert_exporter": "python",
   "pygments_lexer": "ipython3",
   "version": "3.10.8"
  }
 },
 "nbformat": 4,
 "nbformat_minor": 5
}
